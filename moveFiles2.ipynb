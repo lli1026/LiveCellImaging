{
 "cells": [
  {
   "cell_type": "code",
   "execution_count": 1,
   "id": "d2caaf1c-8d49-4869-b8d7-53b788571505",
   "metadata": {},
   "outputs": [],
   "source": [
    "import os\n",
    "import shutil\n",
    "import re"
   ]
  },
  {
   "cell_type": "code",
   "execution_count": 2,
   "id": "b2bd6f9a-61bb-43d3-ac1b-aa8f294952a7",
   "metadata": {},
   "outputs": [],
   "source": [
    "# define a function to remove files to a subfolder\n",
    "\n",
    "def move_files_to_subfolder(source_folder, file_pattern, destination_folder):\n",
    "    if not os.path.exists(destination_folder):\n",
    "        os.makedirs(destination_folder)\n",
    "\n",
    "    pattern = re.compile(file_pattern)\n",
    "\n",
    "    for filename in os.listdir(source_folder):\n",
    "        if pattern.match(filename):\n",
    "            source_path = os.path.join(source_folder, filename)\n",
    "            destination_path = os.path.join(destination_folder, filename)\n",
    "            shutil.move(source_path, destination_path)\n",
    "            print(f\"Moved '{filename}' to '{destination_folder}'\")"
   ]
  },
  {
   "cell_type": "code",
   "execution_count": 3,
   "id": "6c3a7a5c-d219-4cb8-aa65-3e6b74f93e98",
   "metadata": {
    "scrolled": true
   },
   "outputs": [],
   "source": [
    "# move Raw files to folder \"Raw\"\n",
    "source_folder = \"/Users/first_3_hours\"\n",
    "file_pattern = r\".*_R_.*\"  \n",
    "destination_folder = f\"{source_folder}/Raw\"\n",
    "\n",
    "move_files_to_subfolder(source_folder, file_pattern, destination_folder)"
   ]
  },
  {
   "cell_type": "code",
   "execution_count": 43,
   "id": "2506cc2d-26e3-4b95-83ce-111387d07fae",
   "metadata": {
    "scrolled": true
   },
   "outputs": [],
   "source": [
    "# Define a function to remove files to multiple subfolders\n",
    "\n",
    "def move_files_to_subfolders(source_folder, file_pattern, destination_folder):\n",
    "    if not os.path.exists(destination_folder):\n",
    "        os.makedirs(destination_folder)\n",
    "\n",
    "    pattern = re.compile(file_pattern)\n",
    "\n",
    "    for filename in os.listdir(source_folder):\n",
    "        if pattern.match(filename):\n",
    "            source_path = os.path.join(source_folder, filename)\n",
    "            destination_path = os.path.join(destination_folder, filename)\n",
    "\n",
    "            # Check if the file is not a directory before moving\n",
    "            if not os.path.isdir(source_path):\n",
    "                shutil.move(source_path, destination_path)\n",
    "                print(f\"Moved '{filename}' to '{destination_folder}'\")"
   ]
  },
  {
   "cell_type": "code",
   "execution_count": 1,
   "id": "88166f62-a9e5-4944-a035-3198e9fe3667",
   "metadata": {
    "scrolled": true
   },
   "outputs": [
    {
     "ename": "NameError",
     "evalue": "name 'move_files_to_subfolders' is not defined",
     "output_type": "error",
     "traceback": [
      "\u001b[1;31m---------------------------------------------------------------------------\u001b[0m",
      "\u001b[1;31mNameError\u001b[0m                                 Traceback (most recent call last)",
      "\u001b[1;32mc:\\Users\\rose2\\Desktop\\LiveCellImaging\\moveFiles2.ipynb Cell 5\u001b[0m line \u001b[0;36m<cell line: 5>\u001b[1;34m()\u001b[0m\n\u001b[0;32m      <a href='vscode-notebook-cell:/c%3A/Users/rose2/Desktop/LiveCellImaging/moveFiles2.ipynb#W4sZmlsZQ%3D%3D?line=7'>8</a>\u001b[0m file_pattern \u001b[39m=\u001b[39m \u001b[39mrf\u001b[39m\u001b[39m\"\u001b[39m\u001b[39m.*f\u001b[39m\u001b[39m{\u001b[39;00mformatted_number\u001b[39m}\u001b[39;00m\u001b[39m{\u001b[39;00mj\u001b[39m}\u001b[39;00m\u001b[39m.*\u001b[39m\u001b[39m\"\u001b[39m  \n\u001b[0;32m      <a href='vscode-notebook-cell:/c%3A/Users/rose2/Desktop/LiveCellImaging/moveFiles2.ipynb#W4sZmlsZQ%3D%3D?line=8'>9</a>\u001b[0m destination_folder \u001b[39m=\u001b[39m \u001b[39mf\u001b[39m\u001b[39m\"\u001b[39m\u001b[39m{\u001b[39;00msource_folder\u001b[39m}\u001b[39;00m\u001b[39m/f\u001b[39m\u001b[39m{\u001b[39;00mformatted_number\u001b[39m}\u001b[39;00m\u001b[39m{\u001b[39;00mj\u001b[39m}\u001b[39;00m\u001b[39m\"\u001b[39m\n\u001b[1;32m---> <a href='vscode-notebook-cell:/c%3A/Users/rose2/Desktop/LiveCellImaging/moveFiles2.ipynb#W4sZmlsZQ%3D%3D?line=9'>10</a>\u001b[0m move_files_to_subfolders(source_folder, file_pattern, destination_folder)\n",
      "\u001b[1;31mNameError\u001b[0m: name 'move_files_to_subfolders' is not defined"
     ]
    }
   ],
   "source": [
    "# move files to multiple subfolders based on fields and channels.\n",
    "\n",
    "source_folder = \"/Users/first_3_hours/Raw\"\n",
    "\n",
    "for i in range(0,36):\n",
    "    formatted_number = str(i).zfill(2)\n",
    "    for j in ['d0', 'd1', 'd2', 'd3']:\n",
    "        file_pattern = rf\".*f{formatted_number}{j}.*\"  \n",
    "        destination_folder = f\"{source_folder}/f{formatted_number}{j}\"\n",
    "        move_files_to_subfolders(source_folder, file_pattern, destination_folder)"
   ]
  },
  {
   "cell_type": "code",
   "execution_count": null,
   "id": "238c77b1-0afa-4736-82d8-1357ecfc6734",
   "metadata": {},
   "outputs": [],
   "source": []
  }
 ],
 "metadata": {
  "kernelspec": {
   "display_name": "Python 3 (ipykernel)",
   "language": "python",
   "name": "python3"
  },
  "language_info": {
   "codemirror_mode": {
    "name": "ipython",
    "version": 3
   },
   "file_extension": ".py",
   "mimetype": "text/x-python",
   "name": "python",
   "nbconvert_exporter": "python",
   "pygments_lexer": "ipython3",
   "version": "3.10.5"
  }
 },
 "nbformat": 4,
 "nbformat_minor": 5
}
